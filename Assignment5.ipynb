{
 "cells": [
  {
   "cell_type": "markdown",
   "id": "9b740b82",
   "metadata": {},
   "source": [
    "1.  What is the meaning of multiple inheritance?\n",
    "\n",
    "Ans. Multiple inheritance is a feature of object-oriented programming languages that allows a class to inherit from more        than one parent class. In other words, a class can inherit attributes and methods from multiple base classes.\n",
    "\n",
    "    Multiple inheritance can be useful when you want to create a new class that combines features from two or more existing     classes. For example, you might have a class that represents a bird, and another class that represents a mammal. By         creating a new class that inherits from both of these classes, you could create a new class that represents a bat,         which has features of both birds and mammals."
   ]
  },
  {
   "cell_type": "markdown",
   "id": "c54a49ac",
   "metadata": {},
   "source": [
    "2.  What is the concept of delegation?\n",
    "\n",
    "Ans. Delegation is a design pattern in object-oriented programming that involves one object passing responsibility for a        task to another object. In other words, when an object receives a request that it is not equipped to handle, it            delegates that request to another object that is better suited to handle it.\n",
    "\n",
    "    Delegation is often used when you want to reuse existing code in a flexible and modular way. Instead of inheriting from     a base class and overriding its methods, you can create a new class that contains an instance of the base class and         delegates to it as needed."
   ]
  },
  {
   "cell_type": "markdown",
   "id": "2608ce23",
   "metadata": {},
   "source": [
    "3.  What is the concept of composition?\n",
    "\n",
    "Ans. Composition is a design pattern in object-oriented programming that involves combining two or more objects to create a      more complex object. In other words, a complex object is composed of smaller objects that work together to achieve a        common goal."
   ]
  },
  {
   "cell_type": "markdown",
   "id": "ef12e04c",
   "metadata": {},
   "source": [
    "4.  What are bound methods and how do we use them?\n",
    "\n",
    "Ans. In Python, a bound method is a method that is bound to an instance of a class. When you call a bound method on an          instance, the instance is automatically passed as the first argument to the method. This allows the method to access        and operate on the instance's data."
   ]
  },
  {
   "cell_type": "markdown",
   "id": "2a703b2d",
   "metadata": {},
   "source": [
    "5.  What is the purpose of pseudoprivate attributes?\n",
    "\n",
    "Ans. In Python, pseudoprivate attributes are attributes that are defined with a double underscore prefix (__). When an          attribute is defined in this way, its name is automatically \"mangled\" by Python, which means it is renamed to include      the class name in the attribute name.\n",
    "\n",
    "     The purpose of pseudoprivate attributes is to avoid naming conflicts between attributes of a class and its subclasses.      By using a double underscore prefix, you can ensure that an attribute is only accessible from within the class and its      methods, and not from outside the class or from its subclasses. This can help prevent accidental modification of            attributes that are intended to be private or internal to the class."
   ]
  }
 ],
 "metadata": {
  "kernelspec": {
   "display_name": "Python 3 (ipykernel)",
   "language": "python",
   "name": "python3"
  },
  "language_info": {
   "codemirror_mode": {
    "name": "ipython",
    "version": 3
   },
   "file_extension": ".py",
   "mimetype": "text/x-python",
   "name": "python",
   "nbconvert_exporter": "python",
   "pygments_lexer": "ipython3",
   "version": "3.9.12"
  }
 },
 "nbformat": 4,
 "nbformat_minor": 5
}
