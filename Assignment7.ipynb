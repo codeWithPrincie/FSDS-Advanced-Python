{
 "cells": [
  {
   "cell_type": "markdown",
   "id": "73f97152",
   "metadata": {},
   "source": [
    "1.  What is the purpose of the try statement?\n",
    "\n",
    "Ans. The purpose of the try statement in Python is to handle exceptions that might be raised by a block of code."
   ]
  },
  {
   "cell_type": "markdown",
   "id": "8b6b5625",
   "metadata": {},
   "source": [
    "2.  What are the two most popular try statement variations?\n",
    "\n",
    "Ans. try-except statement: This statement is used to catch and handle exceptions that might be raised by a block of code. \n",
    "     try-finally statement: This statement is used to specify code that should always be executed, regardless of whether or      not an exception is raised."
   ]
  },
  {
   "cell_type": "markdown",
   "id": "304a20cb",
   "metadata": {},
   "source": [
    "3.  What is the purpose of the raise statement?\n",
    "\n",
    "Ans. The raise statement in Python is used to raise an exception explicitly. It is typically used when a script encounters      an error condition that cannot be handled in the normal flow of the code. When a raise statement is executed, an            exception is raised, and the program flow is interrupted."
   ]
  },
  {
   "cell_type": "markdown",
   "id": "f2e826ab",
   "metadata": {},
   "source": [
    "4.  What does the assert statement do, and what other statement is it like?\n",
    "\n",
    "Ans. The assert statement in Python is used to check whether a condition is true, and if it is not true, it raises an            AssertionError with an optional error message. The assert statement is similar to the if statement, but it is used          specifically for testing conditions that should always be true. If the condition is false, it is considered to be an        error in the code, and the assert statement raises an exception to indicate that the error has occurred."
   ]
  },
  {
   "cell_type": "markdown",
   "id": "843ac173",
   "metadata": {},
   "source": [
    "5.  What is the purpose of the with/as argument, and what other statement is it like?\n",
    "\n",
    "Ans. The with/as statement in Python is used to simplify the management of resources that need to be cleaned up or released      after they are used. It is similar to the try/finally statement, but with a more concise and readable syntax.The            with/as statement is often used with resources that need to be closed or released explicitly, such as files, network        connections, or database connections. It can also be used with custom classes that define their own context management      protocol, using the __enter__ and __exit__ methods."
   ]
  }
 ],
 "metadata": {
  "kernelspec": {
   "display_name": "Python 3 (ipykernel)",
   "language": "python",
   "name": "python3"
  },
  "language_info": {
   "codemirror_mode": {
    "name": "ipython",
    "version": 3
   },
   "file_extension": ".py",
   "mimetype": "text/x-python",
   "name": "python",
   "nbconvert_exporter": "python",
   "pygments_lexer": "ipython3",
   "version": "3.9.12"
  }
 },
 "nbformat": 4,
 "nbformat_minor": 5
}
