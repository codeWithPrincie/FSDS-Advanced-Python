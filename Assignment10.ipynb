{
 "cells": [
  {
   "cell_type": "markdown",
   "id": "b4afd90a",
   "metadata": {},
   "source": [
    "1.  What is the difference between __getattr__ and __getattribute__?\n",
    "\n",
    "Ans. In Python, __getattr__ and __getattribute__ are both special methods that are called when an attribute lookup is            performed on an object. However, they have some important differences:\n",
    "\n",
    "    __getattr__ is only called when the attribute is not found in the usual places (i.e., in the object's dictionary, its       class hierarchy, or its instance dictionary). It takes one argument, the name of the attribute, and must return the         value of the attribute or raise an AttributeError if the attribute cannot be found.\n",
    "\n",
    "    __getattribute__ is called on every attribute lookup, regardless of whether the attribute is found in the usual places.     It takes one argument, the name of the attribute, and must return the value of the attribute. If an exception is           raised, it is propagated to the caller. This method is called first, and if it raises an AttributeError, then               __getattr__ is called."
   ]
  },
  {
   "cell_type": "markdown",
   "id": "f7b3c987",
   "metadata": {},
   "source": [
    "2.  What is the difference between properties and descriptors?\n",
    "\n",
    "Ans. Both properties and descriptors are used to control access to class attributes, but they differ in how they achieve        this.\n",
    "\n",
    "    Properties are a way to define methods that are accessed like attributes. They provide a convenient way to access or       compute the value of an attribute, and can also be used to validate or transform the value of the attribute. Properties     are defined by adding the @property decorator to a method, and they can be assigned to like any other attribute.\n",
    "\n",
    "     Descriptors, on the other hand, are a more general mechanism for controlling access to attributes. They are classes       that define one or more of the special methods __get__(), __set__(), or __delete__(). When an instance of a descriptor     class is assigned to a class attribute, Python will use the descriptor's methods to get, set, or delete the attribute       value as appropriate. This allows for more fine-grained control over attribute access than properties, as descriptors       can provide custom behavior for all three of the attribute access operations. However, they are more complex to use and     may not be necessary for simple cases."
   ]
  },
  {
   "cell_type": "markdown",
   "id": "8893b1e9",
   "metadata": {},
   "source": [
    "3.  What are the key differences in functionality between __getattr__ and __getattribute__, as well as\n",
    "    properties and descriptors?\n",
    "    \n",
    "Ans. The __getattr__ and __getattribute__ methods are both used for attribute access in Python classes, but they have            different behaviors. __getattr__ is called when an attribute is not found by normal means, such as when the attribute      is not an instance variable or is not defined in the class hierarchy. __getattribute__ is called for all attribute          access attempts, regardless of whether the attribute exists or not.\n",
    "\n",
    "     Properties and descriptors are also used for attribute access in Python classes, but they have different                    functionality. Properties are a way to access an instance variable through a method, which allows for additional            behavior to be defined when accessing the variable. Descriptors are a more general mechanism that allows for                customizing attribute access and modification behavior for any attribute, not just instance variables. Descriptors are      defined as a separate class that implements the __get__, __set__, and/or __delete__ methods, and they can be used in        conjunction with properties or directly with class attributes."
   ]
  }
 ],
 "metadata": {
  "kernelspec": {
   "display_name": "Python 3 (ipykernel)",
   "language": "python",
   "name": "python3"
  },
  "language_info": {
   "codemirror_mode": {
    "name": "ipython",
    "version": 3
   },
   "file_extension": ".py",
   "mimetype": "text/x-python",
   "name": "python",
   "nbconvert_exporter": "python",
   "pygments_lexer": "ipython3",
   "version": "3.9.12"
  }
 },
 "nbformat": 4,
 "nbformat_minor": 5
}
